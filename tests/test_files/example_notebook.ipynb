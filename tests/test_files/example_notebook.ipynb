{
 "cells": [
  {
   "cell_type": "code",
   "execution_count": null,
   "metadata": {},
   "outputs": [],
   "source": [
    "x = {\"a\": 37, \"b\": 42, \"c\": 927}\n",
    "\n",
    "x = 123456789.123456789e123456789\n",
    "\n",
    "if (\n",
    "    very_long_variable_name is not None\n",
    "    and very_long_variable_name.field > 0\n",
    "    or very_long_variable_name.is_debug\n",
    "):\n",
    "    z = \"hello \" + \"world\"\n",
    "else:\n",
    "    world = \"world\"\n",
    "    a = \"hello {}\".format(world)\n",
    "    f = rf\"hello {world}\"\n",
    "if this and that:\n",
    "    y = \"hello \" \"world\"  # FIXME: https://github.com/python/black/issues/26\n",
    ""
   ]
  },
  {
   "cell_type": "code",
   "execution_count": null,
   "metadata": {},
   "outputs": [],
   "source": [
    "class Foo(object):\n",
    "    def f(self):\n",
    "        return 37 * -2\n",
    "\n",
    "    def g(self, x, y=42):\n",
    "        return y\n",
    "\n",
    "\n",
    "def f(a: List[int]):\n",
    "    return 37 - a[42 - u : y**3]\n",
    "\n",
    "\n",
    "def very_important_function(\n",
    "    template: str,\n",
    "    *variables,\n",
    "    file: os.PathLike,\n",
    "    debug: bool = False,\n",
    "):\n",
    "    with open(file, \"w\") as f:\n",
    "        ...\n",
    ""
   ]
  }
 ],
 "metadata": {
  "kernelspec": {
   "display_name": "Python 3",
   "language": "python",
   "name": "python3"
  },
  "language_info": {
   "codemirror_mode": {
    "name": "ipython",
    "version": 3
   },
   "file_extension": ".py",
   "mimetype": "text/x-python",
   "name": "python",
   "nbconvert_exporter": "python",
   "pygments_lexer": "ipython3",
   "version": "3.9.12"
  }
 },
 "nbformat": 4,
 "nbformat_minor": 2
}
